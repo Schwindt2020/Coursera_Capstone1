{
 "cells": [
  {
   "cell_type": "markdown",
   "metadata": {},
   "source": [
    "# Capstone Project - The Battle of Neighborhoods Week_01"
   ]
  },
  {
   "cell_type": "markdown",
   "metadata": {},
   "source": [
    "## Introduction"
   ]
  },
  {
   "cell_type": "markdown",
   "metadata": {},
   "source": [
    "My project is for those who are planning to create a new restaurant in Budapest. I will make a suggestion on what would be the best place to start a new restaurant in a big city that already has many restaurants. Budapest is the capital of Hungary, also the largest and most populous city, cultural and commercial center. More than a thousand restaurants, cafés and entertainment venues await guests, where Hungarian and international gastronomic dishes are served on the table. The gastronomic value of the city is shown by the fact that recently Michelin has been constantly watching Budapest with half an eye, in a few years six restaurants have received Michelin stars.\n",
    "\n",
    "Since the early 2000s, so-called ruin pubs have played a key role in the life of the city, becoming the most visited places with their alternative way of operating, their unique style, and their attractive atmosphere - with a variety of entertainment and cultural opportunities.\n",
    "\n",
    "Budapest is a popular tourist destination, in 2011 it was the 25th most visited city in the world with more than 4 million, in European terms, after London, Istanbul, Paris, Rome and Barcelona, it ranks sixth on this list, considering its advantages and pitfalls in a big city where many restaurants already offer its services.\n",
    "Budapest consists of 23 districts, but I focus only on 5 districts, where the busiest places in the city are located. With that in mind, I can find areas where it’s worth opening a brand new restaurant.\n"
   ]
  },
  {
   "cell_type": "markdown",
   "metadata": {},
   "source": [
    "## Business problem"
   ]
  },
  {
   "cell_type": "markdown",
   "metadata": {},
   "source": [
    "In my report, I focus on the question of where to open a new restaurant in Budapest during the post-COVID restart period.\n",
    "\n",
    "What facts should we consider when determining the location of a restaurant? When choosing a place, is it worth considering, for example, the most visited places in the city? If there are already restaurants that have good ratings, will it be risky to open a new one near them?\n"
   ]
  }
 ],
 "metadata": {
  "kernelspec": {
   "display_name": "Python 3",
   "language": "python",
   "name": "python3"
  },
  "language_info": {
   "codemirror_mode": {
    "name": "ipython",
    "version": 3
   },
   "file_extension": ".py",
   "mimetype": "text/x-python",
   "name": "python",
   "nbconvert_exporter": "python",
   "pygments_lexer": "ipython3",
   "version": "3.8.3"
  }
 },
 "nbformat": 4,
 "nbformat_minor": 4
}
